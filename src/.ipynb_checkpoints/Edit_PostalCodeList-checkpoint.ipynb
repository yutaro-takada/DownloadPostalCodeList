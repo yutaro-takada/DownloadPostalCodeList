{
 "cells": [
  {
   "cell_type": "code",
   "execution_count": 3,
   "id": "28633d46-4ea9-4bba-a902-a6b6fb53fe9f",
   "metadata": {},
   "outputs": [],
   "source": [
    "import pandas as pd\n",
    "import re"
   ]
  },
  {
   "cell_type": "code",
   "execution_count": 5,
   "id": "dcc94d7e-f856-4ad6-9542-c2461a4fca0d",
   "metadata": {},
   "outputs": [],
   "source": [
    "pd.set_option('display.max_rows',16)"
   ]
  },
  {
   "cell_type": "code",
   "execution_count": null,
   "id": "8aa04296-5f56-4408-9e7a-4e234eb9fbe7",
   "metadata": {},
   "outputs": [],
   "source": [
    "df = pd.read_csv('/Users/noname/Desktop/DownloadPostalCodeList/output/KEN_ALL.CSV',\n",
    "                     dtype={'郵便番号':object},\n",
    "                     encoding = 'shift-jis',\n",
    "                     names =['全国地方公共団体コード','（旧）郵便番号','郵便番号','都道府県名ｶﾅ','市区町村名ｶﾅ','町域名ｶﾅ','都道府県名','市区町村名','町域名','郵便番号重複あり','小字毎に番地が設定','丁目を有する町域','2つ以上の町域','更新の表示','変更理由'],\n",
    "                    nrows=1000\n",
    "                )\n",
    "df"
   ]
  },
  {
   "cell_type": "code",
   "execution_count": null,
   "id": "b975b440-60a4-47c5-95b2-74d0a8f0ae9b",
   "metadata": {},
   "outputs": [],
   "source": [
    "print(df.loc[3,'町域名'])\n",
    "print(df.loc[3,'町域名ｶﾅ'])\n",
    "print(df.loc[4,'町域名'])\n",
    "print(df.loc[4,'町域名ｶﾅ'])"
   ]
  },
  {
   "cell_type": "code",
   "execution_count": null,
   "id": "68577137-e09a-4dd3-8a63-c5d0f3308d19",
   "metadata": {},
   "outputs": [],
   "source": [
    "print(df.loc[3,'町域名'])\n",
    "print(df.loc[3,'町域名ｶﾅ'])"
   ]
  },
  {
   "cell_type": "code",
   "execution_count": null,
   "id": "226f2667-a600-4a33-b6dd-d1f411bbd86c",
   "metadata": {},
   "outputs": [],
   "source": [
    "for index,data in df.iterrows():\n",
    "    \n",
    "    #半角・全角()で囲まれた内容　　→　\"空白\"に置換    \n",
    "    string1 = df.loc[index,'町域名']\n",
    "    df.loc[index,'町域名'] = re.sub(\"（.*）\",\"\",string1)\n",
    "    \n",
    "    string2 = df.loc[index,'町域名ｶﾅ']\n",
    "    df.loc[index,'町域名ｶﾅ'] = re.sub(\"\\(.+?\\)\",\"\",string2)\n",
    "    \n",
    "    #「\"ｲｶﾆｹｲｻｲｶﾞﾅｲﾊﾞｱｲ\"」 →　「\"（空白）\"」に置換\n",
    "    if df.loc[index,'町域名ｶﾅ'] == 'ｲｶﾆｹｲｻｲｶﾞﾅｲﾊﾞｱｲ':\n",
    "        # df.loc[df['町域名ｶﾅ']=='ｲｶﾆｹｲｻｲｶﾞﾅｲﾊﾞｱｲ','町域名ｶﾅ']=''\n",
    "        df.loc[index,'町域名ｶﾅ'] = ''\n",
    "   \n",
    "    #「\"以下に掲載がない場合\"」 → 「\"（空白）\"」に置換\n",
    "    if df.loc[index,'町域名'] =='以下に掲載がない場合':\n",
    "        # df.loc[df['町域名']=='以下に掲載がない場合','町域名']=''\n",
    "        df.loc[index,'町域名'] = ''\n",
    "        \n",
    "    #全角\"（\"で始まり、終わりが適当な内容　→　以降を\"空白\"に置換\n",
    "    if df.loc[index,'町域名'] =='（*\"':\n",
    "        # df.loc[df['町域名']=='（*\"','町域名']='\"'\n",
    "        df.loc[index,'町域名'] = ''\n",
    "    \n",
    "    #半角\"(\"で始まり、終わりが適当な内容　→　以降を\"空白\"に置換\n",
    "    if df.loc[index,'町域名ｶﾅ'] == '(*\"':\n",
    "        # df.loc[df['町域名ｶﾅ']=='(*\"','町域名ｶﾅ']='\"'\n",
    "        df.loc[index,'町域名ｶﾅ'] = ''\n"
   ]
  },
  {
   "cell_type": "code",
   "execution_count": null,
   "id": "aa26651f-a9ec-4618-bbb4-41cc57e28fdb",
   "metadata": {},
   "outputs": [],
   "source": [
    "print(df.loc[3,'町域名'])\n",
    "print(df.loc[3,'町域名ｶﾅ'])"
   ]
  },
  {
   "cell_type": "code",
   "execution_count": null,
   "id": "88dfcc12-66b5-4a8e-9f1f-29f9811484ca",
   "metadata": {},
   "outputs": [],
   "source": []
  },
  {
   "cell_type": "code",
   "execution_count": null,
   "id": "11f07de9-6d94-45c8-a747-dca8ac8d92d4",
   "metadata": {},
   "outputs": [],
   "source": [
    "df.loc[0]"
   ]
  },
  {
   "cell_type": "code",
   "execution_count": null,
   "id": "f9b82c85-8af7-4f7d-9ce8-4e272730c244",
   "metadata": {},
   "outputs": [],
   "source": []
  },
  {
   "cell_type": "code",
   "execution_count": null,
   "id": "2d40feb0-581b-46ce-9c7e-2a03e6c471ee",
   "metadata": {},
   "outputs": [],
   "source": [
    "#csv出力\n",
    "df.to_csv('/Users/noname/Desktop/DownloadPostalCodeList/output/ken_all_edit.csv',encoding = 'shift-jis')"
   ]
  },
  {
   "cell_type": "code",
   "execution_count": null,
   "id": "2a8bd982-7421-46f1-8e53-6f165a91a98c",
   "metadata": {},
   "outputs": [],
   "source": []
  }
 ],
 "metadata": {
  "kernelspec": {
   "display_name": "Python 3 (ipykernel)",
   "language": "python",
   "name": "python3"
  },
  "language_info": {
   "codemirror_mode": {
    "name": "ipython",
    "version": 3
   },
   "file_extension": ".py",
   "mimetype": "text/x-python",
   "name": "python",
   "nbconvert_exporter": "python",
   "pygments_lexer": "ipython3",
   "version": "3.9.9"
  }
 },
 "nbformat": 4,
 "nbformat_minor": 5
}
