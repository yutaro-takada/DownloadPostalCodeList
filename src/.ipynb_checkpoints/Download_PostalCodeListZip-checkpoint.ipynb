{
 "cells": [
  {
   "cell_type": "code",
   "execution_count": null,
   "id": "0ece74d2-026f-4b48-8818-151dfbfe8818",
   "metadata": {},
   "outputs": [],
   "source": [
    "pip install selenium"
   ]
  },
  {
   "cell_type": "code",
   "execution_count": null,
   "id": "ee304dea-cd2c-4a50-b34a-c87d4f984a70",
   "metadata": {},
   "outputs": [],
   "source": [
    "pip install webdriver_manager"
   ]
  },
  {
   "cell_type": "code",
   "execution_count": null,
   "id": "668333d8-e675-4b98-ac9b-48f84234fe27",
   "metadata": {},
   "outputs": [],
   "source": [
    "#通常機能関連\n",
    "from selenium import webdriver\n",
    "from webdriver_manager.chrome import ChromeDriverManager\n",
    "from time import sleep\n",
    "#ログ関連\n",
    "import datetime\n",
    "import time\n",
    "import logging\n",
    "from selenium.webdriver.support.select import Select"
   ]
  },
  {
   "cell_type": "code",
   "execution_count": null,
   "id": "09950ece-fb2e-4ada-a48a-26b4c36eca1a",
   "metadata": {},
   "outputs": [],
   "source": [
    "#ログの出力名を設定\n",
    "logger = logging.getLogger('LoggingTest')\n",
    "\n",
    "#ログファイルの出力先設定\n",
    "fh = logging.FileHandler('/Users/noname/Desktop/DownloadPostalCodeList/output/test.log')\n",
    "logger.addHandler(fh)\n",
    "\n",
    "#ログをコンソール出力するための設定\n",
    "sh = logging.StreamHandler()\n",
    "logger.addHandler(sh)\n",
    "\n",
    "#ログの出力形式\n",
    "form = logging.Formatter('%(asctime)s:%(lineno)d:%(message)s')\n",
    "fh.setFormatter(form)\n",
    "sh.setFormatter(form)"
   ]
  },
  {
   "cell_type": "code",
   "execution_count": null,
   "id": "74a19f7e-8b4b-4a04-93b6-28df020365e8",
   "metadata": {},
   "outputs": [],
   "source": [
    "#処理開始時間記録\n",
    "start = time.time()"
   ]
  },
  {
   "cell_type": "code",
   "execution_count": null,
   "id": "3cccc547-3c7d-4bce-9b4f-251c41bbf825",
   "metadata": {},
   "outputs": [],
   "source": [
    "#ZipファイルのDL先をデフォルトから変更する\n",
    "download = '/Users/noname/Desktop/DownloadPostalCodeList'\n",
    "\n",
    "options = webdriver.ChromeOptions()\n",
    "# options.add_argument('--headless')\n",
    "options.add_experimental_option(\"prefs\",{\"download.default_directory\":download})\n",
    "chrome = webdriver.Chrome(ChromeDriverManager().install(), chrome_options=options)\n",
    "\n",
    "logger.log(100,'>>[開始]ブラウザ起動(ヘッドレスモード)')"
   ]
  },
  {
   "cell_type": "code",
   "execution_count": null,
   "id": "8e7be75f-2b59-4be8-b521-bef2a84839c1",
   "metadata": {},
   "outputs": [],
   "source": [
    "chrome.get('https://www.post.japanpost.jp/zipcode/dl/kogaki-zip.html')\n",
    "#ログ出力:[ページアクセス]\n",
    "logger.log(100,'>>[ページアクセス]')"
   ]
  },
  {
   "cell_type": "code",
   "execution_count": null,
   "id": "c27fe1e4-eefc-49c1-bdb8-eea7861a5792",
   "metadata": {},
   "outputs": [],
   "source": [
    "elem_all = chrome.find_element_by_xpath('/html/body/div[1]/div/div[2]/div/div[1]/div/div/table[1]/tbody/tr[12]/td[4]/a')\n",
    "elem_all.click()\n",
    "logger.log(100,'>>[▼DL開始]')\n",
    "\n",
    "sleep(10)\n",
    "\n",
    "logger.log(100,'>>[▲DL終了]')"
   ]
  },
  {
   "cell_type": "code",
   "execution_count": null,
   "id": "5b40aa44-d7a9-482d-b6d0-d2f7950a92a5",
   "metadata": {
    "tags": []
   },
   "outputs": [],
   "source": [
    "#ログ出力:[▼csv解凍開始]\n",
    "logger.log(100,'>>[▼csv解凍開始]')\n",
    "from shutil import unpack_archive\n",
    "unpack_archive('/Users/noname/Desktop/DownloadPostalCodeList/ken_all.zip',extract_dir='/Users/noname/Desktop/DownloadPostalCodeList/output',format='zip')"
   ]
  },
  {
   "cell_type": "code",
   "execution_count": null,
   "id": "9765f8a4-aaaa-4f34-8369-8f5b06100062",
   "metadata": {},
   "outputs": [],
   "source": [
    "#ログ出力:[▲csv解凍完了]\n",
    "logger.log(100,'>>[▲csv解凍終了]')\n",
    "chrome.quit()"
   ]
  },
  {
   "cell_type": "code",
   "execution_count": null,
   "id": "541e1f64-0265-4a51-b345-5daada6f83ba",
   "metadata": {},
   "outputs": [],
   "source": [
    "#処理時間計算\n",
    "end = time.time()\n",
    "passed_time = end - start\n",
    "pt = str(datetime.timedelta(seconds=passed_time))\n",
    "message = '>>[終了]【処理時間】：'+ pt\n",
    "logger.log(100,message)"
   ]
  }
 ],
 "metadata": {
  "kernelspec": {
   "display_name": "Python 3 (ipykernel)",
   "language": "python",
   "name": "python3"
  },
  "language_info": {
   "codemirror_mode": {
    "name": "ipython",
    "version": 3
   },
   "file_extension": ".py",
   "mimetype": "text/x-python",
   "name": "python",
   "nbconvert_exporter": "python",
   "pygments_lexer": "ipython3",
   "version": "3.9.9"
  }
 },
 "nbformat": 4,
 "nbformat_minor": 5
}
