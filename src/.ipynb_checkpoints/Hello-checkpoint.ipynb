{
 "cells": [
  {
   "cell_type": "code",
   "execution_count": null,
   "id": "3c165f4d-d47e-4fc9-8b37-6edde4857ebb",
   "metadata": {},
   "outputs": [],
   "source": [
    "print('おはようございます')"
   ]
  },
  {
   "cell_type": "code",
   "execution_count": null,
   "id": "2a49b897-b9c3-4f93-8f73-c55c90f876d9",
   "metadata": {},
   "outputs": [],
   "source": [
    "pip install selenium\n",
    "from selenium import webdriver"
   ]
  }
 ],
 "metadata": {
  "kernelspec": {
   "display_name": "Python 3 (ipykernel)",
   "language": "python",
   "name": "python3"
  },
  "language_info": {
   "codemirror_mode": {
    "name": "ipython",
    "version": 3
   },
   "file_extension": ".py",
   "mimetype": "text/x-python",
   "name": "python",
   "nbconvert_exporter": "python",
   "pygments_lexer": "ipython3",
   "version": "3.9.9"
  }
 },
 "nbformat": 4,
 "nbformat_minor": 5
}
