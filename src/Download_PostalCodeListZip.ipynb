{
 "cells": [
  {
   "cell_type": "code",
   "execution_count": 1,
   "id": "0ece74d2-026f-4b48-8818-151dfbfe8818",
   "metadata": {},
   "outputs": [
    {
     "name": "stdout",
     "output_type": "stream",
     "text": [
      "\u001b[33mDEPRECATION: Configuring installation scheme with distutils config files is deprecated and will no longer work in the near future. If you are using a Homebrew or Linuxbrew Python, please see discussion at https://github.com/Homebrew/homebrew-core/issues/76621\u001b[0m\u001b[33m\n",
      "\u001b[0mRequirement already satisfied: selenium in /usr/local/lib/python3.9/site-packages (4.1.3)\n",
      "Requirement already satisfied: urllib3[secure,socks]~=1.26 in /usr/local/lib/python3.9/site-packages (from selenium) (1.26.7)\n",
      "Requirement already satisfied: trio~=0.17 in /usr/local/lib/python3.9/site-packages (from selenium) (0.20.0)\n",
      "Requirement already satisfied: trio-websocket~=0.9 in /usr/local/lib/python3.9/site-packages (from selenium) (0.9.2)\n",
      "Requirement already satisfied: sniffio in /usr/local/lib/python3.9/site-packages (from trio~=0.17->selenium) (1.2.0)\n",
      "Requirement already satisfied: sortedcontainers in /usr/local/lib/python3.9/site-packages (from trio~=0.17->selenium) (2.4.0)\n",
      "Requirement already satisfied: attrs>=19.2.0 in /usr/local/lib/python3.9/site-packages (from trio~=0.17->selenium) (21.2.0)\n",
      "Requirement already satisfied: async-generator>=1.9 in /usr/local/lib/python3.9/site-packages (from trio~=0.17->selenium) (1.10)\n",
      "Requirement already satisfied: idna in /usr/local/lib/python3.9/site-packages (from trio~=0.17->selenium) (3.3)\n",
      "Requirement already satisfied: outcome in /usr/local/lib/python3.9/site-packages (from trio~=0.17->selenium) (1.1.0)\n",
      "Requirement already satisfied: wsproto>=0.14 in /usr/local/lib/python3.9/site-packages (from trio-websocket~=0.9->selenium) (1.1.0)\n",
      "Requirement already satisfied: PySocks!=1.5.7,<2.0,>=1.5.6 in /usr/local/lib/python3.9/site-packages (from urllib3[secure,socks]~=1.26->selenium) (1.7.1)\n",
      "Requirement already satisfied: cryptography>=1.3.4 in /usr/local/lib/python3.9/site-packages (from urllib3[secure,socks]~=1.26->selenium) (36.0.1)\n",
      "Requirement already satisfied: certifi in /usr/local/lib/python3.9/site-packages (from urllib3[secure,socks]~=1.26->selenium) (2021.10.8)\n",
      "Requirement already satisfied: pyOpenSSL>=0.14 in /usr/local/lib/python3.9/site-packages (from urllib3[secure,socks]~=1.26->selenium) (22.0.0)\n",
      "Requirement already satisfied: cffi>=1.12 in /usr/local/lib/python3.9/site-packages (from cryptography>=1.3.4->urllib3[secure,socks]~=1.26->selenium) (1.15.0)\n",
      "Requirement already satisfied: h11<1,>=0.9.0 in /usr/local/lib/python3.9/site-packages (from wsproto>=0.14->trio-websocket~=0.9->selenium) (0.13.0)\n",
      "Requirement already satisfied: pycparser in /usr/local/lib/python3.9/site-packages (from cffi>=1.12->cryptography>=1.3.4->urllib3[secure,socks]~=1.26->selenium) (2.21)\n",
      "\u001b[33mDEPRECATION: Configuring installation scheme with distutils config files is deprecated and will no longer work in the near future. If you are using a Homebrew or Linuxbrew Python, please see discussion at https://github.com/Homebrew/homebrew-core/issues/76621\u001b[0m\u001b[33m\n",
      "\u001b[0mNote: you may need to restart the kernel to use updated packages.\n"
     ]
    }
   ],
   "source": [
    "pip install selenium"
   ]
  },
  {
   "cell_type": "code",
   "execution_count": 2,
   "id": "ee304dea-cd2c-4a50-b34a-c87d4f984a70",
   "metadata": {},
   "outputs": [
    {
     "name": "stdout",
     "output_type": "stream",
     "text": [
      "\u001b[33mDEPRECATION: Configuring installation scheme with distutils config files is deprecated and will no longer work in the near future. If you are using a Homebrew or Linuxbrew Python, please see discussion at https://github.com/Homebrew/homebrew-core/issues/76621\u001b[0m\u001b[33m\n",
      "\u001b[0mRequirement already satisfied: webdriver_manager in /usr/local/lib/python3.9/site-packages (3.5.3)\n",
      "Requirement already satisfied: crayons in /usr/local/lib/python3.9/site-packages (from webdriver_manager) (0.4.0)\n",
      "Requirement already satisfied: configparser in /usr/local/lib/python3.9/site-packages (from webdriver_manager) (5.2.0)\n",
      "Requirement already satisfied: requests in /usr/local/lib/python3.9/site-packages (from webdriver_manager) (2.26.0)\n",
      "Requirement already satisfied: colorama in /usr/local/lib/python3.9/site-packages (from crayons->webdriver_manager) (0.4.4)\n",
      "Requirement already satisfied: certifi>=2017.4.17 in /usr/local/lib/python3.9/site-packages (from requests->webdriver_manager) (2021.10.8)\n",
      "Requirement already satisfied: idna<4,>=2.5 in /usr/local/lib/python3.9/site-packages (from requests->webdriver_manager) (3.3)\n",
      "Requirement already satisfied: urllib3<1.27,>=1.21.1 in /usr/local/lib/python3.9/site-packages (from requests->webdriver_manager) (1.26.7)\n",
      "Requirement already satisfied: charset-normalizer~=2.0.0 in /usr/local/lib/python3.9/site-packages (from requests->webdriver_manager) (2.0.9)\n",
      "\u001b[33mDEPRECATION: Configuring installation scheme with distutils config files is deprecated and will no longer work in the near future. If you are using a Homebrew or Linuxbrew Python, please see discussion at https://github.com/Homebrew/homebrew-core/issues/76621\u001b[0m\u001b[33m\n",
      "\u001b[0mNote: you may need to restart the kernel to use updated packages.\n"
     ]
    }
   ],
   "source": [
    "pip install webdriver_manager"
   ]
  },
  {
   "cell_type": "code",
   "execution_count": 3,
   "id": "668333d8-e675-4b98-ac9b-48f84234fe27",
   "metadata": {},
   "outputs": [],
   "source": [
    "#通常機能関連\n",
    "from selenium import webdriver\n",
    "from webdriver_manager.chrome import ChromeDriverManager\n",
    "from time import sleep\n",
    "#ログ関連\n",
    "import datetime\n",
    "import time\n",
    "import logging\n",
    "from selenium.webdriver.support.select import Select"
   ]
  },
  {
   "cell_type": "code",
   "execution_count": 4,
   "id": "09950ece-fb2e-4ada-a48a-26b4c36eca1a",
   "metadata": {},
   "outputs": [],
   "source": [
    "#ログの出力名を設定\n",
    "logger = logging.getLogger('LoggingTest')\n",
    "\n",
    "#ログファイルの出力先設定\n",
    "fh = logging.FileHandler('/Users/noname/Desktop/DownloadPostalCodeList/output/test.log')\n",
    "logger.addHandler(fh)\n",
    "\n",
    "#ログをコンソール出力するための設定\n",
    "sh = logging.StreamHandler()\n",
    "logger.addHandler(sh)\n",
    "\n",
    "#ログの出力形式\n",
    "form = logging.Formatter('%(asctime)s:%(lineno)d:%(message)s')\n",
    "fh.setFormatter(form)\n",
    "sh.setFormatter(form)"
   ]
  },
  {
   "cell_type": "code",
   "execution_count": 5,
   "id": "74a19f7e-8b4b-4a04-93b6-28df020365e8",
   "metadata": {},
   "outputs": [],
   "source": [
    "#処理開始時間記録\n",
    "start = time.time()"
   ]
  },
  {
   "cell_type": "code",
   "execution_count": 6,
   "id": "3cccc547-3c7d-4bce-9b4f-251c41bbf825",
   "metadata": {},
   "outputs": [
    {
     "name": "stderr",
     "output_type": "stream",
     "text": [
      "\n",
      "\n",
      "====== WebDriver manager ======\n",
      "Current google-chrome version is 99.0.4844\n",
      "Get LATEST chromedriver version for 99.0.4844 google-chrome\n",
      "Driver [/Users/noname/.wdm/drivers/chromedriver/mac64/99.0.4844.51/chromedriver] found in cache\n",
      "/var/folders/np/8yhl3tyd27z74519cp35pw5w0000gn/T/ipykernel_7197/139366259.py:7: DeprecationWarning: executable_path has been deprecated, please pass in a Service object\n",
      "  chrome = webdriver.Chrome(ChromeDriverManager().install(), chrome_options=options)\n",
      "/var/folders/np/8yhl3tyd27z74519cp35pw5w0000gn/T/ipykernel_7197/139366259.py:7: DeprecationWarning: use options instead of chrome_options\n",
      "  chrome = webdriver.Chrome(ChromeDriverManager().install(), chrome_options=options)\n",
      "2022-03-29 20:53:19,705:9:>>[開始]ブラウザ起動(ヘッドレスモード)\n"
     ]
    }
   ],
   "source": [
    "#ZipファイルのDL先をデフォルトから変更する\n",
    "download = '/Users/noname/Desktop/DownloadPostalCodeList'\n",
    "\n",
    "options = webdriver.ChromeOptions()\n",
    "# options.add_argument('--headless')\n",
    "options.add_experimental_option(\"prefs\",{\"download.default_directory\":download})\n",
    "chrome = webdriver.Chrome(ChromeDriverManager().install(), chrome_options=options)\n",
    "\n",
    "logger.log(100,'>>[開始]ブラウザ起動(ヘッドレスモード)')"
   ]
  },
  {
   "cell_type": "code",
   "execution_count": 7,
   "id": "8e7be75f-2b59-4be8-b521-bef2a84839c1",
   "metadata": {},
   "outputs": [
    {
     "name": "stderr",
     "output_type": "stream",
     "text": [
      "2022-03-29 20:53:22,751:3:>>[ページアクセス]\n"
     ]
    }
   ],
   "source": [
    "chrome.get('https://www.post.japanpost.jp/zipcode/dl/kogaki-zip.html')\n",
    "#ログ出力:[ページアクセス]\n",
    "logger.log(100,'>>[ページアクセス]')"
   ]
  },
  {
   "cell_type": "code",
   "execution_count": 8,
   "id": "c27fe1e4-eefc-49c1-bdb8-eea7861a5792",
   "metadata": {},
   "outputs": [
    {
     "name": "stderr",
     "output_type": "stream",
     "text": [
      "/var/folders/np/8yhl3tyd27z74519cp35pw5w0000gn/T/ipykernel_7197/4007890304.py:1: DeprecationWarning: find_element_by_xpath is deprecated. Please use find_element(by=By.XPATH, value=xpath) instead\n",
      "  elem_all = chrome.find_element_by_xpath('/html/body/div[1]/div/div[2]/div/div[1]/div/div/table[1]/tbody/tr[12]/td[4]/a')\n",
      "2022-03-29 20:53:23,146:3:>>[▼DL開始]\n",
      "2022-03-29 20:53:33,151:7:>>[▲DL終了]\n"
     ]
    }
   ],
   "source": [
    "elem_all = chrome.find_element_by_xpath('/html/body/div[1]/div/div[2]/div/div[1]/div/div/table[1]/tbody/tr[12]/td[4]/a')\n",
    "elem_all.click()\n",
    "logger.log(100,'>>[▼DL開始]')\n",
    "\n",
    "sleep(10)\n",
    "\n",
    "logger.log(100,'>>[▲DL終了]')"
   ]
  },
  {
   "cell_type": "code",
   "execution_count": 9,
   "id": "5b40aa44-d7a9-482d-b6d0-d2f7950a92a5",
   "metadata": {
    "tags": []
   },
   "outputs": [
    {
     "name": "stderr",
     "output_type": "stream",
     "text": [
      "2022-03-29 20:53:33,166:2:>>[▼csv解凍開始]\n"
     ]
    }
   ],
   "source": [
    "#ログ出力:[▼csv解凍開始]\n",
    "logger.log(100,'>>[▼csv解凍開始]')\n",
    "from shutil import unpack_archive\n",
    "unpack_archive('/Users/noname/Desktop/DownloadPostalCodeList/ken_all.zip',extract_dir='/Users/noname/Desktop/DownloadPostalCodeList/output',format='zip')"
   ]
  },
  {
   "cell_type": "code",
   "execution_count": 10,
   "id": "9765f8a4-aaaa-4f34-8369-8f5b06100062",
   "metadata": {},
   "outputs": [
    {
     "name": "stderr",
     "output_type": "stream",
     "text": [
      "2022-03-29 20:53:33,309:2:>>[▲csv解凍終了]\n"
     ]
    }
   ],
   "source": [
    "#ログ出力:[▲csv解凍完了]\n",
    "logger.log(100,'>>[▲csv解凍終了]')\n",
    "chrome.quit()"
   ]
  },
  {
   "cell_type": "code",
   "execution_count": 11,
   "id": "541e1f64-0265-4a51-b345-5daada6f83ba",
   "metadata": {},
   "outputs": [
    {
     "name": "stderr",
     "output_type": "stream",
     "text": [
      "2022-03-29 20:53:33,641:6:>>[終了]【処理時間】：0:00:19.171855\n"
     ]
    }
   ],
   "source": [
    "#処理時間計算\n",
    "end = time.time()\n",
    "passed_time = end - start\n",
    "pt = str(datetime.timedelta(seconds=passed_time))\n",
    "message = '>>[終了]【処理時間】：'+ pt\n",
    "logger.log(100,message)"
   ]
  }
 ],
 "metadata": {
  "kernelspec": {
   "display_name": "Python 3 (ipykernel)",
   "language": "python",
   "name": "python3"
  },
  "language_info": {
   "codemirror_mode": {
    "name": "ipython",
    "version": 3
   },
   "file_extension": ".py",
   "mimetype": "text/x-python",
   "name": "python",
   "nbconvert_exporter": "python",
   "pygments_lexer": "ipython3",
   "version": "3.9.9"
  }
 },
 "nbformat": 4,
 "nbformat_minor": 5
}
